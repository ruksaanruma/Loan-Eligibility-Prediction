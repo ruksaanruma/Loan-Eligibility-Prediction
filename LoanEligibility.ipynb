{
 "cells": [
  {
   "cell_type": "markdown",
   "metadata": {},
   "source": [
    "Step 1: Load the Dataset\n"
   ]
  },
  {
   "cell_type": "code",
   "execution_count": 32,
   "metadata": {},
   "outputs": [
    {
     "name": "stdout",
     "output_type": "stream",
     "text": [
      "    Loan_ID Gender Married  Dependents     Education Self_Employed  \\\n",
      "0  LP001002   Male     Yes           0      Graduate            No   \n",
      "1  LP001003   Male     Yes           1      Graduate            No   \n",
      "2  LP001005   Male     Yes           0      Graduate           Yes   \n",
      "3  LP001006   Male      No           0  Not Graduate            No   \n",
      "4  LP001008   Male     Yes           0      Graduate            No   \n",
      "\n",
      "   ApplicantIncome  CoapplicantIncome  LoanAmount  Loan_Amount_Term  \\\n",
      "0             5849                  0         128               360   \n",
      "1             4583               1508         128               360   \n",
      "2             3000                  0          66               360   \n",
      "3             2583               2358         120               360   \n",
      "4             6000                  0         141               360   \n",
      "\n",
      "   Credit_History Property_Area Loan_Status  \n",
      "0               1         Urban           Y  \n",
      "1               1         Rural           N  \n",
      "2               1         Urban           Y  \n",
      "3               1         Urban           Y  \n",
      "4               1         Urban           Y  \n",
      "<class 'pandas.core.frame.DataFrame'>\n",
      "RangeIndex: 20 entries, 0 to 19\n",
      "Data columns (total 13 columns):\n",
      " #   Column             Non-Null Count  Dtype \n",
      "---  ------             --------------  ----- \n",
      " 0   Loan_ID            20 non-null     object\n",
      " 1   Gender             20 non-null     object\n",
      " 2   Married            20 non-null     object\n",
      " 3   Dependents         20 non-null     int64 \n",
      " 4   Education          20 non-null     object\n",
      " 5   Self_Employed      20 non-null     object\n",
      " 6   ApplicantIncome    20 non-null     int64 \n",
      " 7   CoapplicantIncome  20 non-null     int64 \n",
      " 8   LoanAmount         20 non-null     int64 \n",
      " 9   Loan_Amount_Term   20 non-null     int64 \n",
      " 10  Credit_History     20 non-null     int64 \n",
      " 11  Property_Area      20 non-null     object\n",
      " 12  Loan_Status        20 non-null     object\n",
      "dtypes: int64(6), object(7)\n",
      "memory usage: 2.2+ KB\n",
      "None\n"
     ]
    },
    {
     "data": {
      "text/plain": [
       "Loan_ID   Gender  Married  Dependents  Education     Self_Employed  ApplicantIncome  CoapplicantIncome  LoanAmount  Loan_Amount_Term  Credit_History  Property_Area  Loan_Status\n",
       "LP001002  Male    Yes      0           Graduate      No             5849             0                  128         360               1               Urban          Y              1\n",
       "LP001003  Male    Yes      1           Graduate      No             4583             1508               128         360               1               Rural          N              1\n",
       "LP001046  Male    No       0           Not Graduate  Yes            4887             0                  133         360               1               Urban          Y              1\n",
       "LP001043  Female  Yes      0           Graduate      No             3510             0                  76          360               0               Semiurban      N              1\n",
       "LP001038  Male    Yes      1           Not Graduate  No             3596             0                  100         240               1               Semiurban      Y              1\n",
       "LP001035  Female  No       0           Graduate      No             4950             0                  125         360               1               Rural          Y              1\n",
       "LP001031  Male    No       0           Graduate      No             1299             1086               17          120               1               Semiurban      Y              1\n",
       "LP001029  Male    Yes      2           Not Graduate  No             1853             2840               114         360               1               Semiurban      Y              1\n",
       "LP001028  Female  Yes      0           Graduate      No             3073             8106               200         360               1               Semiurban      Y              1\n",
       "LP001027  Male    Yes      0           Graduate      Yes            2500             0                  109         360               1               Rural          N              1\n",
       "LP001024  Male    Yes      2           Graduate      Yes            3200             700                70          180               1               Urban          Y              1\n",
       "LP001020  Female  No       1           Graduate      No             12841            10968              349         360               1               Rural          N              1\n",
       "LP001018  Male    Yes      2           Graduate      No             4006             1526               168         360               1               Urban          Y              1\n",
       "LP001014  Male    Yes      0           Graduate      No             3036             2504               158         360               0               Urban          N              1\n",
       "LP001013  Female  No       0           Graduate      No             2333             1516               95          360               1               Urban          Y              1\n",
       "LP001011  Male    Yes      2           Graduate      Yes            5417             4196               267         360               1               Urban          Y              1\n",
       "LP001008  Male    Yes      0           Graduate      No             6000             0                  141         360               1               Urban          Y              1\n",
       "LP001006  Male    No       0           Not Graduate  No             2583             2358               120         360               1               Urban          Y              1\n",
       "LP001005  Male    Yes      0           Graduate      Yes            3000             0                  66          360               1               Urban          Y              1\n",
       "LP001047  Female  Yes      0           Graduate      No             4333             2451               129         360               1               Rural          N              1\n",
       "Name: count, dtype: int64"
      ]
     },
     "execution_count": 32,
     "metadata": {},
     "output_type": "execute_result"
    }
   ],
   "source": [
    "import pandas as pd\n",
    "\n",
    "# Load the dataset\n",
    "df = pd.read_csv('loan_data.csv')\n",
    "\n",
    "# Display the first few rows\n",
    "print(df.head())\n",
    "\n",
    "# Check the structure of the dataset\n",
    "print(df.info())\n"
   ]
  },
  {
   "cell_type": "code",
   "execution_count": 35,
   "metadata": {},
   "outputs": [
    {
     "data": {
      "text/plain": [
       "(20, 13)"
      ]
     },
     "execution_count": 35,
     "metadata": {},
     "output_type": "execute_result"
    }
   ],
   "source": [
    "df.shape"
   ]
  },
  {
   "cell_type": "code",
   "execution_count": 36,
   "metadata": {},
   "outputs": [
    {
     "name": "stdout",
     "output_type": "stream",
     "text": [
      "Loan_ID              0\n",
      "Gender               0\n",
      "Married              0\n",
      "Dependents           0\n",
      "Education            0\n",
      "Self_Employed        0\n",
      "ApplicantIncome      0\n",
      "CoapplicantIncome    0\n",
      "LoanAmount           0\n",
      "Loan_Amount_Term     0\n",
      "Credit_History       0\n",
      "Property_Area        0\n",
      "Loan_Status          0\n",
      "dtype: int64\n"
     ]
    }
   ],
   "source": [
    "print(df.isnull().sum())"
   ]
  },
  {
   "cell_type": "markdown",
   "metadata": {},
   "source": [
    "Step 2: Explore the Dataset\n",
    "\n",
    "Let's understand the key features and the target variable (Loan_Status), which indicates whether the loan was approved (1) or not approved (0).\n",
    "\n",
    "Dataset Features: \n",
    "\n",
    "Some important features in this dataset include:\n",
    "\n",
    "Gender: Male/Female (categorical)\n",
    "\n",
    "Married: Yes/No (categorical)\n",
    "\n",
    "Dependents: Number of dependents (categorical, including '3+')\n",
    "\n",
    "Education: Graduate/Not Graduate (categorical)\n",
    "\n",
    "Self_Employed: Yes/No (categorical)\n",
    "\n",
    "ApplicantIncome: Numeric income of the applicant\n",
    "\n",
    "CoapplicantIncome: Numeric income of the coapplicant\n",
    "\n",
    "LoanAmount: Numeric loan amount\n",
    "\n",
    "Loan_Amount_Term: Term in months\n",
    "\n",
    "Credit_History: 1 or 0 (whether the applicant has credit history)\n",
    "\n",
    "Property_Area: Urban/Rural/Semiurban (categorical)\n",
    "\n",
    "Loan_Status: 1 (approved) or 0 (not approved) – the target variable."
   ]
  },
  {
   "cell_type": "code",
   "execution_count": 12,
   "metadata": {},
   "outputs": [
    {
     "name": "stdout",
     "output_type": "stream",
     "text": [
      "       Dependents  ApplicantIncome  CoapplicantIncome  LoanAmount  \\\n",
      "count   20.000000        20.000000          20.000000   20.000000   \n",
      "mean     0.550000      4142.450000        1987.950000  134.650000   \n",
      "std      0.825578      2428.969274        2893.234804   72.508638   \n",
      "min      0.000000      1299.000000           0.000000   17.000000   \n",
      "25%      0.000000      2895.750000           0.000000   98.750000   \n",
      "50%      0.000000      3553.000000        1297.000000  126.500000   \n",
      "75%      1.000000      4902.750000        2464.250000  145.250000   \n",
      "max      2.000000     12841.000000       10968.000000  349.000000   \n",
      "\n",
      "       Loan_Amount_Term  Credit_History  \n",
      "count         20.000000       20.000000  \n",
      "mean         333.000000        0.900000  \n",
      "std           68.755861        0.307794  \n",
      "min          120.000000        0.000000  \n",
      "25%          360.000000        1.000000  \n",
      "50%          360.000000        1.000000  \n",
      "75%          360.000000        1.000000  \n",
      "max          360.000000        1.000000  \n",
      "Loan_ID              0\n",
      "Gender               0\n",
      "Married              0\n",
      "Dependents           0\n",
      "Education            0\n",
      "Self_Employed        0\n",
      "ApplicantIncome      0\n",
      "CoapplicantIncome    0\n",
      "LoanAmount           0\n",
      "Loan_Amount_Term     0\n",
      "Credit_History       0\n",
      "Property_Area        0\n",
      "Loan_Status          0\n",
      "dtype: int64\n",
      "Loan_Status\n",
      "Y    14\n",
      "N     6\n",
      "Name: count, dtype: int64\n"
     ]
    }
   ],
   "source": [
    "# Get a statistical summary of numerical columns\n",
    "print(df.describe())\n",
    "\n",
    "# Check for missing values\n",
    "print(df.isnull().sum())\n",
    "\n",
    "# Check the distribution of the target variable (Loan_Status)\n",
    "print(df['Loan_Status'].value_counts())"
   ]
  },
  {
   "cell_type": "markdown",
   "metadata": {},
   "source": [
    "Step 3: Data Preprocessing\n",
    "\n",
    "3.1 Handling Missing Values\n",
    "\n",
    "First, we need to handle missing values (if any).\n",
    "\n",
    "We can either fill missing values with a strategy (mean/median for numerical data, mode for categorical) or remove them."
   ]
  },
  {
   "cell_type": "code",
   "execution_count": 13,
   "metadata": {},
   "outputs": [
    {
     "name": "stdout",
     "output_type": "stream",
     "text": [
      "Loan_ID              0\n",
      "Gender               0\n",
      "Married              0\n",
      "Dependents           0\n",
      "Education            0\n",
      "Self_Employed        0\n",
      "ApplicantIncome      0\n",
      "CoapplicantIncome    0\n",
      "LoanAmount           0\n",
      "Loan_Amount_Term     0\n",
      "Credit_History       0\n",
      "Property_Area        0\n",
      "Loan_Status          0\n",
      "dtype: int64\n"
     ]
    }
   ],
   "source": [
    "# Check for missing values\n",
    "print(df.isnull().sum())\n",
    "\n",
    "# Drop the Loan_ID column as it's not useful for modeling\n",
    "#df.drop('Loan_ID', axis=1, inplace=True)\n",
    "\n",
    "# Fill missing values in 'LoanAmount' with the median\n",
    "df['LoanAmount'].fillna(df['LoanAmount'].median(), inplace=True)\n",
    "\n",
    "# Fill missing values in 'Loan_Amount_Term' with the mode\n",
    "df['Loan_Amount_Term'].fillna(df['Loan_Amount_Term'].mode()[0], inplace=True)\n",
    "\n",
    "# Fill missing categorical values with mode (e.g., Gender, Married)\n",
    "df['Gender'].fillna(df['Gender'].mode()[0], inplace=True)\n",
    "df['Married'].fillna(df['Married'].mode()[0], inplace=True)\n",
    "df['Dependents'].fillna(df['Dependents'].mode()[0], inplace=True)\n",
    "df['Self_Employed'].fillna(df['Self_Employed'].mode()[0], inplace=True)\n",
    "df['Credit_History'].fillna(df['Credit_History'].mode()[0], inplace=True)\n"
   ]
  },
  {
   "cell_type": "markdown",
   "metadata": {},
   "source": [
    "3.2 Encoding Categorical Variables\n",
    "\n",
    "Categorical features like Gender, Married, Dependents, Education, and Property_Area need to be converted into numeric values for machine learning models.\n",
    "\n",
    "We can use Label Encoding or One-Hot Encoding."
   ]
  },
  {
   "cell_type": "code",
   "execution_count": 14,
   "metadata": {},
   "outputs": [
    {
     "name": "stdout",
     "output_type": "stream",
     "text": [
      "    Loan_ID  ApplicantIncome  CoapplicantIncome  LoanAmount  Loan_Amount_Term  \\\n",
      "0  LP001002             5849                  0         128               360   \n",
      "1  LP001003             4583               1508         128               360   \n",
      "2  LP001005             3000                  0          66               360   \n",
      "3  LP001006             2583               2358         120               360   \n",
      "4  LP001008             6000                  0         141               360   \n",
      "\n",
      "   Credit_History Loan_Status  Gender_Male  Married_Yes  Dependents_1  \\\n",
      "0               1           Y         True         True         False   \n",
      "1               1           N         True         True          True   \n",
      "2               1           Y         True         True         False   \n",
      "3               1           Y         True        False         False   \n",
      "4               1           Y         True         True         False   \n",
      "\n",
      "   Dependents_2  Education_Not Graduate  Self_Employed_Yes  \\\n",
      "0         False                   False              False   \n",
      "1         False                   False              False   \n",
      "2         False                   False               True   \n",
      "3         False                    True              False   \n",
      "4         False                   False              False   \n",
      "\n",
      "   Property_Area_Semiurban  Property_Area_Urban  \n",
      "0                    False                 True  \n",
      "1                    False                False  \n",
      "2                    False                 True  \n",
      "3                    False                 True  \n",
      "4                    False                 True  \n"
     ]
    }
   ],
   "source": [
    "# Convert categorical columns to numeric using pd.get_dummies() for one-hot encoding\n",
    "df = pd.get_dummies(df, columns=['Gender', 'Married', 'Dependents', 'Education', 'Self_Employed', 'Property_Area'], drop_first=True)\n",
    "\n",
    "# Display the new DataFrame structure\n",
    "print(df.head())\n"
   ]
  },
  {
   "cell_type": "markdown",
   "metadata": {},
   "source": [
    "3.3 Feature Scaling\n",
    "\n",
    "For models like logistic regression, scaling the features is important. We’ll use StandardScaler to scale numerical features like ApplicantIncome, CoapplicantIncome, LoanAmount, and Loan_Amount_Term."
   ]
  },
  {
   "cell_type": "code",
   "execution_count": 15,
   "metadata": {},
   "outputs": [
    {
     "name": "stdout",
     "output_type": "stream",
     "text": [
      "   ApplicantIncome  CoapplicantIncome  LoanAmount  Loan_Amount_Term\n",
      "0         0.720834          -0.704953   -0.094096          0.402895\n",
      "1         0.186085          -0.170196   -0.094096          0.402895\n",
      "2        -0.482562          -0.704953   -0.971380          0.402895\n",
      "3        -0.658700           0.131224   -0.207294          0.402895\n",
      "4         0.784615          -0.704953    0.089851          0.402895\n"
     ]
    }
   ],
   "source": [
    "from sklearn.preprocessing import StandardScaler\n",
    "\n",
    "# Initialize the StandardScaler\n",
    "scaler = StandardScaler()\n",
    "\n",
    "# List of numerical features to be scaled\n",
    "num_features = ['ApplicantIncome', 'CoapplicantIncome', 'LoanAmount', 'Loan_Amount_Term']\n",
    "\n",
    "# Scale the numerical features\n",
    "df[num_features] = scaler.fit_transform(df[num_features])\n",
    "\n",
    "# Check the scaled features\n",
    "print(df[num_features].head())\n"
   ]
  },
  {
   "cell_type": "markdown",
   "metadata": {},
   "source": [
    "Step 4: Build a Loan Eligibility Prediction Model\n",
    "\n",
    "4.1 Split Data into Training and Test Sets\n",
    "We’ll split the dataset into training and testing sets to train the model and evaluate its performance."
   ]
  },
  {
   "cell_type": "code",
   "execution_count": 21,
   "metadata": {},
   "outputs": [],
   "source": [
    "from sklearn.model_selection import train_test_split\n",
    "\n",
    "# Define the feature set (X) and target (y)\n",
    "X = df.drop('Loan_Status', axis=1)\n",
    "y = df['Loan_Status']\n",
    "\n",
    "# Split the dataset into training (80%) and testing (20%) sets\n",
    "X_train, X_test, y_train, y_test = train_test_split(X, y, test_size=0.2, random_state=42)\n",
    "\n",
    "\n"
   ]
  },
  {
   "cell_type": "markdown",
   "metadata": {},
   "source": [
    "4.2 Train a Machine Learning Model (Logistic Regression)\n",
    "For binary classification, we can start with Logistic Regression."
   ]
  },
  {
   "cell_type": "code",
   "execution_count": 25,
   "metadata": {},
   "outputs": [
    {
     "data": {
      "text/plain": [
       "0.5"
      ]
     },
     "execution_count": 25,
     "metadata": {},
     "output_type": "execute_result"
    }
   ],
   "source": [
    "from sklearn.linear_model import LogisticRegression\n",
    "\n",
    "# Initialize the Logistic Regression model\n",
    "model = LogisticRegression()\n",
    "\n",
    "# Train the model on the training data\n",
    "model.fit(X_train, y_train)\n",
    "\n",
    "# Make predictions on the test data\n",
    "y_pred = model.predict(X_test)\n",
    "\n",
    "model.score(X_test, y_test)\n",
    "\n",
    "\n"
   ]
  },
  {
   "cell_type": "markdown",
   "metadata": {},
   "source": [
    "Step 5: Evaluate the Model\n",
    "We will evaluate the model using accuracy, precision, recall, and F1-score."
   ]
  },
  {
   "cell_type": "code",
   "execution_count": 39,
   "metadata": {},
   "outputs": [
    {
     "name": "stdout",
     "output_type": "stream",
     "text": [
      "Accuracy: 0.50\n"
     ]
    }
   ],
   "source": [
    "from sklearn.metrics import accuracy_score, precision_score, recall_score, f1_score, confusion_matrix\n",
    "\n",
    "# Calculate accuracy, precision, recall, and F1-score\n",
    "accuracy = accuracy_score(y_test, y_pred)\n",
    "#precision = precision_score(y_test, y_pred)\n",
    "#recall = recall_score(y_test, y_pred)\n",
    "#f1 = f1_score(y_test, y_pred)\n",
    "\n",
    "print(f\"Accuracy: {accuracy:.2f}\")\n",
    "#print(f\"Precision: {precision:.2f}\")\n",
    "#print(f\"Recall: {recall:.2f}\")\n",
    "#print(f\"F1 Score: {f1:.2f}\")"
   ]
  }
 ],
 "metadata": {
  "kernelspec": {
   "display_name": "base",
   "language": "python",
   "name": "python3"
  },
  "language_info": {
   "codemirror_mode": {
    "name": "ipython",
    "version": 3
   },
   "file_extension": ".py",
   "mimetype": "text/x-python",
   "name": "python",
   "nbconvert_exporter": "python",
   "pygments_lexer": "ipython3",
   "version": "3.11.7"
  }
 },
 "nbformat": 4,
 "nbformat_minor": 2
}
